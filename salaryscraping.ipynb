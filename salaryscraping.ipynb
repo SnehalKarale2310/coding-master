{
 "cells": [
  {
   "cell_type": "code",
   "execution_count": 1,
   "id": "impaired-jewelry",
   "metadata": {},
   "outputs": [],
   "source": [
    "import re\n",
    "import csv\n",
    "import json\n",
    "from time import sleep\n",
    "from bs4 import BeautifulSoup\n",
    "import requests"
   ]
  },
  {
   "cell_type": "code",
   "execution_count": 2,
   "id": "maritime-elite",
   "metadata": {},
   "outputs": [],
   "source": [
    "template = 'https://www.salary.com/research/salary/alternate/{}-salary/{}'"
   ]
  },
  {
   "cell_type": "code",
   "execution_count": 3,
   "id": "crazy-marks",
   "metadata": {},
   "outputs": [],
   "source": [
    "position = 'senior-accountant'\n",
    "city = 'charlotte-nc'\n",
    "\n",
    "url = template.format(position, city)\n",
    "\n",
    "response = requests.get(url)"
   ]
  },
  {
   "cell_type": "code",
   "execution_count": 4,
   "id": "strategic-private",
   "metadata": {},
   "outputs": [],
   "source": [
    "soup = BeautifulSoup(response.text, 'lxml')"
   ]
  },
  {
   "cell_type": "code",
   "execution_count": 5,
   "id": "sweet-gathering",
   "metadata": {},
   "outputs": [
    {
     "name": "stdout",
     "output_type": "stream",
     "text": [
      "<script type=\"application/ld+json\">\r\n",
      " {\r\n",
      "    \"@context\": \"http://schema.org\",\r\n",
      "    \"@type\": \"Occupation\",\r\n",
      "    \"name\": \"Senior Accountant\",\r\n",
      "    \"mainEntityOfPage\": {\r\n",
      "        \"@type\": \"WebPage\",\r\n",
      "        \"lastReviewed\": \"2020-12-28T00:00:00Z\"\r\n",
      "    },\r\n",
      "    \"description\": \"The Senior Accountant ensures the accuracy of entries to ledger accounts and reconciles subsidiary ledger accounts to the general ledger. Maintains financial records and ensures that financial transactions are properly recorded. Being a Senior Accountant analyzes current costs, revenues, financial commitments, and obligations incurred to predict future revenues and expenses. Prepares complex balance sheets, profit and loss statements and other financial reports. In addition, Senior Accountant may supervise and guide lower-level accountants. Requires a bachelor&#39;s degree. May require CPA certification. Typically reports to a supervisor or manager. Being a Senior Accountant contributes to moderately complex aspects of a project. Work is generally independent and collaborative in nature. Working as a Senior Accountant typically requires 4 to 7 years of related experience.\",\r\n",
      "    \"estimatedSalary\": [{\r\n",
      "    \"@type\": \"MonetaryAmountDistribution\",\r\n",
      "    \"name\": \"base\",\r\n",
      "    \"currency\": \"USD\",\r\n",
      "    \"duration\" : \"P1Y\",\r\n",
      "    \"percentile10\": \"64962\",\r\n",
      "    \"percentile25\": \"71790\",\r\n",
      "    \"median\": \"79290\",\r\n",
      "    \"percentile75\": \"87890\",\r\n",
      "    \"percentile90\": \"95720\"\r\n",
      "    },\r\n",
      "    {\r\n",
      "    \"@type\": \"MonetaryAmountDistribution\",\r\n",
      "    \"name\": \"total compensation\",\r\n",
      "    \"currency\": \"USD\",\r\n",
      "    \"duration\" : \"P1Y\",\r\n",
      "    \"percentile10\": \"65742\",\r\n",
      "    \"percentile25\": \"73390\",\r\n",
      "    \"median\": \"81790\",\r\n",
      "    \"percentile75\": \"91490\",\r\n",
      "    \"percentile90\": \"100321\"\r\n",
      "    }]\r\n",
      "        \r\n",
      "        ,\r\n",
      "        \"occupationLocation\": [{\r\n",
      "            \"@type\": \"City\",\r\n",
      "            \"name\": \"Charlotte, NC\"\r\n",
      "        }]\r\n",
      "        \r\n",
      "}\r\n",
      "</script>\n"
     ]
    }
   ],
   "source": [
    "pattern = re.compile(r'Occupation')\n",
    "script = soup.find('script', {'type': 'application/ld+json'},text=pattern)\n",
    "print(script)"
   ]
  },
  {
   "cell_type": "code",
   "execution_count": 6,
   "id": "earned-algebra",
   "metadata": {},
   "outputs": [],
   "source": [
    "json_raw = script.contents[0]"
   ]
  },
  {
   "cell_type": "code",
   "execution_count": 7,
   "id": "eleven-sequence",
   "metadata": {},
   "outputs": [],
   "source": [
    "json_data = json.loads(json_raw)"
   ]
  },
  {
   "cell_type": "code",
   "execution_count": 8,
   "id": "charitable-material",
   "metadata": {},
   "outputs": [
    {
     "data": {
      "text/plain": [
       "{'@context': 'http://schema.org',\n",
       " '@type': 'Occupation',\n",
       " 'name': 'Senior Accountant',\n",
       " 'mainEntityOfPage': {'@type': 'WebPage',\n",
       "  'lastReviewed': '2020-12-28T00:00:00Z'},\n",
       " 'description': 'The Senior Accountant ensures the accuracy of entries to ledger accounts and reconciles subsidiary ledger accounts to the general ledger. Maintains financial records and ensures that financial transactions are properly recorded. Being a Senior Accountant analyzes current costs, revenues, financial commitments, and obligations incurred to predict future revenues and expenses. Prepares complex balance sheets, profit and loss statements and other financial reports. In addition, Senior Accountant may supervise and guide lower-level accountants. Requires a bachelor&#39;s degree. May require CPA certification. Typically reports to a supervisor or manager. Being a Senior Accountant contributes to moderately complex aspects of a project. Work is generally independent and collaborative in nature. Working as a Senior Accountant typically requires 4 to 7 years of related experience.',\n",
       " 'estimatedSalary': [{'@type': 'MonetaryAmountDistribution',\n",
       "   'name': 'base',\n",
       "   'currency': 'USD',\n",
       "   'duration': 'P1Y',\n",
       "   'percentile10': '64962',\n",
       "   'percentile25': '71790',\n",
       "   'median': '79290',\n",
       "   'percentile75': '87890',\n",
       "   'percentile90': '95720'},\n",
       "  {'@type': 'MonetaryAmountDistribution',\n",
       "   'name': 'total compensation',\n",
       "   'currency': 'USD',\n",
       "   'duration': 'P1Y',\n",
       "   'percentile10': '65742',\n",
       "   'percentile25': '73390',\n",
       "   'median': '81790',\n",
       "   'percentile75': '91490',\n",
       "   'percentile90': '100321'}],\n",
       " 'occupationLocation': [{'@type': 'City', 'name': 'Charlotte, NC'}]}"
      ]
     },
     "execution_count": 8,
     "metadata": {},
     "output_type": "execute_result"
    }
   ],
   "source": [
    "json_data"
   ]
  },
  {
   "cell_type": "code",
   "execution_count": 9,
   "id": "driving-bandwidth",
   "metadata": {},
   "outputs": [
    {
     "name": "stdout",
     "output_type": "stream",
     "text": [
      "('Senior Accountant', 'Charlotte, NC', 'The Senior Accountant ensures the accuracy of entries to ledger accounts and reconciles subsidiary ledger accounts to the general ledger. Maintains financial records and ensures that financial transactions are properly recorded. Being a Senior Accountant analyzes current costs, revenues, financial commitments, and obligations incurred to predict future revenues and expenses. Prepares complex balance sheets, profit and loss statements and other financial reports. In addition, Senior Accountant may supervise and guide lower-level accountants. Requires a bachelor&#39;s degree. May require CPA certification. Typically reports to a supervisor or manager. Being a Senior Accountant contributes to moderately complex aspects of a project. Work is generally independent and collaborative in nature. Working as a Senior Accountant typically requires 4 to 7 years of related experience.', '64962', '71790', '79290', '87890', '95720')\n"
     ]
    }
   ],
   "source": [
    "job_title = json_data['name']\n",
    "location = json_data['occupationLocation'][0]['name']\n",
    "description = json_data['description']\n",
    "\n",
    "ntile_10 = json_data['estimatedSalary'][0]['percentile10']\n",
    "ntile_25 = json_data['estimatedSalary'][0]['percentile25']\n",
    "ntile_50 = json_data['estimatedSalary'][0]['median']\n",
    "ntile_75 = json_data['estimatedSalary'][0]['percentile75']\n",
    "ntile_90 = json_data['estimatedSalary'][0]['percentile90']\n",
    "\n",
    "salary_data = (job_title, location, description, ntile_10, ntile_25, ntile_50, ntile_75, ntile_90)\n",
    "print(salary_data)"
   ]
  },
  {
   "cell_type": "code",
   "execution_count": 10,
   "id": "impressed-period",
   "metadata": {},
   "outputs": [],
   "source": [
    "def extract_salary_info(job_title, job_city):\n",
    "    template = 'https://www.salary.com/research/salary/alternate/{}-salary/{}'\n",
    "    \n",
    "    url = template.format(job_title, job_city)\n",
    "    \n",
    "    try:\n",
    "        response = requests.get(url)\n",
    "        if response.status_code !=200:\n",
    "            return None\n",
    "    except requests.exceptions.ConnectionError:\n",
    "        return None\n",
    "    soup = BeautifulSoup(response.text, 'lxml')\n",
    "    pattern = re.compile(r'Occupation')\n",
    "    script = soup.find('script', {'type': 'application/ld+json'},text=pattern)\n",
    "    json_raw = script.contents[0]\n",
    "    json_data = json.loads(json_raw)\n",
    "    job_title = json_data['name']\n",
    "    location = json_data['occupationLocation'][0]['name']\n",
    "    description = json_data['description']\n",
    "\n",
    "    ntile_10 = json_data['estimatedSalary'][0]['percentile10']\n",
    "    ntile_25 = json_data['estimatedSalary'][0]['percentile25']\n",
    "    ntile_50 = json_data['estimatedSalary'][0]['median']\n",
    "    ntile_75 = json_data['estimatedSalary'][0]['percentile75']\n",
    "    ntile_90 = json_data['estimatedSalary'][0]['percentile90']\n",
    "\n",
    "    salary_data = (job_title, location, description, ntile_10, ntile_25, ntile_50, ntile_75, ntile_90)\n",
    "    return salary_data"
   ]
  },
  {
   "cell_type": "code",
   "execution_count": 11,
   "id": "adopted-thanksgiving",
   "metadata": {},
   "outputs": [],
   "source": [
    "with open('largest_cities.csv', newline='') as f:\n",
    "    reader = csv.reader(f)\n",
    "    cities = [city for row in reader for city in row]"
   ]
  },
  {
   "cell_type": "code",
   "execution_count": 12,
   "id": "considerable-honey",
   "metadata": {},
   "outputs": [
    {
     "name": "stdout",
     "output_type": "stream",
     "text": [
      "['New-York-NY', 'Los-Angeles-CA', 'Chicago-IL', 'Houston-TX', 'Phoenix-AZ', 'Philadelphia-PA', 'San-Antonio-TX', 'San-Diego-CA', 'Dallas-TX', 'San-Jose-CA']\n"
     ]
    }
   ],
   "source": [
    "print(cities[:10])"
   ]
  },
  {
   "cell_type": "code",
   "execution_count": null,
   "id": "cleared-cleaner",
   "metadata": {},
   "outputs": [],
   "source": [
    "salary_data = []\n",
    "\n",
    "for city in cities:\n",
    "    result = extract_salary_info(position, city)\n",
    "    if result:\n",
    "        salary_data.append(result)\n",
    "        sleep(0.5)\n",
    "for row in salary_data[:5]:\n",
    "    print(row)"
   ]
  },
  {
   "cell_type": "code",
   "execution_count": null,
   "id": "convinced-hardwood",
   "metadata": {},
   "outputs": [],
   "source": [
    "with open('salary-results.csv','w', newline='', encoding='utf-8') as f:\n",
    "    writer = csv.writer(f)\n",
    "    writer.writerow(['Title', 'Location', 'Description', 'nTile10', 'nTile25', 'nTile50', 'nTile75', 'nTile90'])\n",
    "    writer.writerows(salary_data)"
   ]
  },
  {
   "cell_type": "code",
   "execution_count": null,
   "id": "personal-royal",
   "metadata": {},
   "outputs": [],
   "source": [
    "def main(job_title):\n",
    "    with open('largest_cities.csv', newline='') as f:\n",
    "        reader = csv.reader(f)\n",
    "        cities = [city for row in reader for city in row]\n",
    "    salary_data = []\n",
    "\n",
    "    for city in cities:\n",
    "        result = extract_salary_info(position, city)\n",
    "        if result:\n",
    "            salary_data.append(result)\n",
    "            sleep(0.5)\n",
    "    \n",
    "    with open('salary-results.csv','w', newline='', encoding='utf-8') as g:\n",
    "        writer = csv.writer(g)\n",
    "        writer.writerow(['Title', 'Location', 'Description', 'nTile10', 'nTile25', 'nTile50', 'nTile75', 'nTile90'])\n",
    "        writer.writerows(salary_data)\n",
    "    return salary_data  "
   ]
  },
  {
   "cell_type": "code",
   "execution_count": null,
   "id": "filled-script",
   "metadata": {},
   "outputs": [],
   "source": []
  }
 ],
 "metadata": {
  "kernelspec": {
   "display_name": "Python 3",
   "language": "python",
   "name": "python3"
  },
  "language_info": {
   "codemirror_mode": {
    "name": "ipython",
    "version": 3
   },
   "file_extension": ".py",
   "mimetype": "text/x-python",
   "name": "python",
   "nbconvert_exporter": "python",
   "pygments_lexer": "ipython3",
   "version": "3.9.1"
  }
 },
 "nbformat": 4,
 "nbformat_minor": 5
}
